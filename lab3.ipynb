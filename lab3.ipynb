{
 "cells": [
  {
   "cell_type": "markdown",
   "id": "56d73ec8-6641-4ac0-8c0b-3460da6b0dc6",
   "metadata": {},
   "source": [
    "# Importing Packages"
   ]
  },
  {
   "cell_type": "code",
   "execution_count": 3,
   "id": "b81ed330-330c-4915-8ee8-67f3518cdbd5",
   "metadata": {},
   "outputs": [],
   "source": [
    "# you'll need to install torchtext in your local environment\n",
    "import torch\n",
    "from torchtext.data import Field, TabularDataset, BucketIterator"
   ]
  },
  {
   "cell_type": "markdown",
   "id": "ee26fdb9-8906-4b5a-ab52-7b8071079e50",
   "metadata": {},
   "source": [
    "# Task 1 Create Dataset for Generative Learning"
   ]
  },
  {
   "cell_type": "markdown",
   "id": "b6844ab8-1217-43c6-b8a1-f995a0c1cd17",
   "metadata": {},
   "source": [
    "### Storing the haikus into strings."
   ]
  },
  {
   "cell_type": "code",
   "execution_count": null,
   "id": "cb3d23a4-40ab-4ec8-926d-bddd163e1c65",
   "metadata": {},
   "outputs": [],
   "source": [
    "haiku1 = \"Tranquil waters flow, Whispering secrets of time, Embraced by the night.\"\n",
    "haiku2 = \"Moonlight dances soft, Through branches of ancient oak, Embraced by the night.\"\n",
    "haiku3 = \"Serene silence reigns, Stars shimmer in the night sky, Embraced by the night.\"\n",
    "haiku4 = \"Shadows dance gently, Across fields of golden wheat, Embraced by the night.\"\n",
    "haiku5 = \"Fireflies flicker bright, Illuminating the dark, Embraced by the night.\"\n",
    "\n",
    "haikus = [haiku1, haiku2, haiku3, ]"
   ]
  }
 ],
 "metadata": {
  "kernelspec": {
   "display_name": "Python 3 (ipykernel)",
   "language": "python",
   "name": "python3"
  },
  "language_info": {
   "codemirror_mode": {
    "name": "ipython",
    "version": 3
   },
   "file_extension": ".py",
   "mimetype": "text/x-python",
   "name": "python",
   "nbconvert_exporter": "python",
   "pygments_lexer": "ipython3",
   "version": "3.11.5"
  }
 },
 "nbformat": 4,
 "nbformat_minor": 5
}
