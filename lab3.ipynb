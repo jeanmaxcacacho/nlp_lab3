{
 "cells": [
  {
   "cell_type": "markdown",
   "id": "56d73ec8-6641-4ac0-8c0b-3460da6b0dc6",
   "metadata": {},
   "source": [
    "# Importing Packages"
   ]
  },
  {
   "cell_type": "code",
   "execution_count": 10,
   "id": "b81ed330-330c-4915-8ee8-67f3518cdbd5",
   "metadata": {},
   "outputs": [
    {
     "ename": "ImportError",
     "evalue": "cannot import name 'Field' from 'torchtext.data' (C:\\Users\\cacac\\anaconda3\\Lib\\site-packages\\torchtext\\data\\__init__.py)",
     "output_type": "error",
     "traceback": [
      "\u001b[1;31m---------------------------------------------------------------------------\u001b[0m",
      "\u001b[1;31mImportError\u001b[0m                               Traceback (most recent call last)",
      "Cell \u001b[1;32mIn[10], line 3\u001b[0m\n\u001b[0;32m      1\u001b[0m \u001b[38;5;66;03m# you'll need to install torchtext in your local environment\u001b[39;00m\n\u001b[0;32m      2\u001b[0m \u001b[38;5;28;01mimport\u001b[39;00m \u001b[38;5;21;01mtorch\u001b[39;00m\n\u001b[1;32m----> 3\u001b[0m \u001b[38;5;28;01mfrom\u001b[39;00m \u001b[38;5;21;01mtorchtext\u001b[39;00m\u001b[38;5;21;01m.\u001b[39;00m\u001b[38;5;21;01mdata\u001b[39;00m \u001b[38;5;28;01mimport\u001b[39;00m Field, TabularDataset\n\u001b[0;32m      4\u001b[0m \u001b[38;5;28;01mfrom\u001b[39;00m \u001b[38;5;21;01mcollections\u001b[39;00m \u001b[38;5;28;01mimport\u001b[39;00m defaultdict\n",
      "\u001b[1;31mImportError\u001b[0m: cannot import name 'Field' from 'torchtext.data' (C:\\Users\\cacac\\anaconda3\\Lib\\site-packages\\torchtext\\data\\__init__.py)"
     ]
    }
   ],
   "source": [
    "# you'll need to install torchtext in your local environment\n",
    "import torch\n",
    "from torchtext.data import Field, TabularDataset\n",
    "from collections import defaultdict"
   ]
  },
  {
   "cell_type": "markdown",
   "id": "ee26fdb9-8906-4b5a-ab52-7b8071079e50",
   "metadata": {},
   "source": [
    "# Task 1 Create Dataset for Generative Learning"
   ]
  },
  {
   "cell_type": "markdown",
   "id": "b6844ab8-1217-43c6-b8a1-f995a0c1cd17",
   "metadata": {},
   "source": [
    "### Storing the haikus into strings."
   ]
  },
  {
   "cell_type": "code",
   "execution_count": 1,
   "id": "cb3d23a4-40ab-4ec8-926d-bddd163e1c65",
   "metadata": {},
   "outputs": [
    {
     "name": "stdout",
     "output_type": "stream",
     "text": [
      "Tranquil waters flow, Whispering secrets of time, Embraced by the night.\n",
      "Moonlight dances soft, Through branches of ancient oak, Embraced by the night.\n",
      "Serene silence reigns, Stars shimmer in the night sky, Embraced by the night.\n",
      "Shadows dance gently, Across fields of golden wheat, Embraced by the night.\n",
      "Fireflies flicker bright, Illuminating the dark, Embraced by the night.\n"
     ]
    }
   ],
   "source": [
    "haiku1 = \"Tranquil waters flow, Whispering secrets of time, Embraced by the night.\"\n",
    "haiku2 = \"Moonlight dances soft, Through branches of ancient oak, Embraced by the night.\"\n",
    "haiku3 = \"Serene silence reigns, Stars shimmer in the night sky, Embraced by the night.\"\n",
    "haiku4 = \"Shadows dance gently, Across fields of golden wheat, Embraced by the night.\"\n",
    "haiku5 = \"Fireflies flicker bright, Illuminating the dark, Embraced by the night.\"\n",
    "\n",
    "haikus = [haiku1, haiku2, haiku3, haiku4, haiku5]\n",
    "\n",
    "for haiku in haikus:\n",
    "    print(haiku)"
   ]
  },
  {
   "cell_type": "markdown",
   "id": "704d105c-d25b-4041-a5a8-11ed09ad23b4",
   "metadata": {},
   "source": [
    "### Tokenize haikus into words"
   ]
  },
  {
   "cell_type": "code",
   "execution_count": 3,
   "id": "fe4aa8f0-bde1-4371-af10-450767ec7157",
   "metadata": {},
   "outputs": [
    {
     "data": {
      "text/plain": [
       "[['Tranquil',\n",
       "  'waters',\n",
       "  'flow,',\n",
       "  'Whispering',\n",
       "  'secrets',\n",
       "  'of',\n",
       "  'time,',\n",
       "  'Embraced',\n",
       "  'by',\n",
       "  'the',\n",
       "  'night.'],\n",
       " ['Moonlight',\n",
       "  'dances',\n",
       "  'soft,',\n",
       "  'Through',\n",
       "  'branches',\n",
       "  'of',\n",
       "  'ancient',\n",
       "  'oak,',\n",
       "  'Embraced',\n",
       "  'by',\n",
       "  'the',\n",
       "  'night.'],\n",
       " ['Serene',\n",
       "  'silence',\n",
       "  'reigns,',\n",
       "  'Stars',\n",
       "  'shimmer',\n",
       "  'in',\n",
       "  'the',\n",
       "  'night',\n",
       "  'sky,',\n",
       "  'Embraced',\n",
       "  'by',\n",
       "  'the',\n",
       "  'night.'],\n",
       " ['Shadows',\n",
       "  'dance',\n",
       "  'gently,',\n",
       "  'Across',\n",
       "  'fields',\n",
       "  'of',\n",
       "  'golden',\n",
       "  'wheat,',\n",
       "  'Embraced',\n",
       "  'by',\n",
       "  'the',\n",
       "  'night.'],\n",
       " ['Fireflies',\n",
       "  'flicker',\n",
       "  'bright,',\n",
       "  'Illuminating',\n",
       "  'the',\n",
       "  'dark,',\n",
       "  'Embraced',\n",
       "  'by',\n",
       "  'the',\n",
       "  'night.']]"
      ]
     },
     "execution_count": 3,
     "metadata": {},
     "output_type": "execute_result"
    }
   ],
   "source": [
    "tokenized_haikus = [haiku.split() for haiku in haikus]\n",
    "tokenized_haikus"
   ]
  },
  {
   "cell_type": "markdown",
   "id": "b6949b6a-55f3-4c54-be7d-7c71123ebfdc",
   "metadata": {},
   "source": [
    "### Generating sequences"
   ]
  },
  {
   "cell_type": "code",
   "execution_count": 7,
   "id": "b58476d4-65bd-42b4-880d-7cda3e3377fa",
   "metadata": {},
   "outputs": [
    {
     "data": {
      "text/plain": [
       "[['Tranquil', 'waters', 'flow,'],\n",
       " ['waters', 'flow,', 'Whispering'],\n",
       " ['flow,', 'Whispering', 'secrets'],\n",
       " ['Whispering', 'secrets', 'of'],\n",
       " ['secrets', 'of', 'time,'],\n",
       " ['of', 'time,', 'Embraced'],\n",
       " ['time,', 'Embraced', 'by'],\n",
       " ['Embraced', 'by', 'the'],\n",
       " ['Moonlight', 'dances', 'soft,'],\n",
       " ['dances', 'soft,', 'Through'],\n",
       " ['soft,', 'Through', 'branches'],\n",
       " ['Through', 'branches', 'of'],\n",
       " ['branches', 'of', 'ancient'],\n",
       " ['of', 'ancient', 'oak,'],\n",
       " ['ancient', 'oak,', 'Embraced'],\n",
       " ['oak,', 'Embraced', 'by'],\n",
       " ['Embraced', 'by', 'the'],\n",
       " ['Serene', 'silence', 'reigns,'],\n",
       " ['silence', 'reigns,', 'Stars'],\n",
       " ['reigns,', 'Stars', 'shimmer'],\n",
       " ['Stars', 'shimmer', 'in'],\n",
       " ['shimmer', 'in', 'the'],\n",
       " ['in', 'the', 'night'],\n",
       " ['the', 'night', 'sky,'],\n",
       " ['night', 'sky,', 'Embraced'],\n",
       " ['sky,', 'Embraced', 'by'],\n",
       " ['Embraced', 'by', 'the'],\n",
       " ['Shadows', 'dance', 'gently,'],\n",
       " ['dance', 'gently,', 'Across'],\n",
       " ['gently,', 'Across', 'fields'],\n",
       " ['Across', 'fields', 'of'],\n",
       " ['fields', 'of', 'golden'],\n",
       " ['of', 'golden', 'wheat,'],\n",
       " ['golden', 'wheat,', 'Embraced'],\n",
       " ['wheat,', 'Embraced', 'by'],\n",
       " ['Embraced', 'by', 'the'],\n",
       " ['Fireflies', 'flicker', 'bright,'],\n",
       " ['flicker', 'bright,', 'Illuminating'],\n",
       " ['bright,', 'Illuminating', 'the'],\n",
       " ['Illuminating', 'the', 'dark,'],\n",
       " ['the', 'dark,', 'Embraced'],\n",
       " ['dark,', 'Embraced', 'by'],\n",
       " ['Embraced', 'by', 'the']]"
      ]
     },
     "execution_count": 7,
     "metadata": {},
     "output_type": "execute_result"
    }
   ],
   "source": [
    "x_sequences = []\n",
    "y_sequences = []\n",
    "\n",
    "for haiku in tokenized_haikus:\n",
    "    for i in range(len(haiku) - 3):\n",
    "        x_sequences.append(haiku[i:i+3])\n",
    "        y_sequences.append(haiku[i+3])\n",
    "\n",
    "# let's see what it looks like\n",
    "x_sequences"
   ]
  },
  {
   "cell_type": "markdown",
   "id": "e28c67ba-942e-4a5c-9df7-0f5171e3f5b4",
   "metadata": {},
   "source": [
    "### Tagging end of line with `</l>` and end of haiku with `</e>`"
   ]
  },
  {
   "cell_type": "code",
   "execution_count": 8,
   "id": "e87d301a-ed58-4028-a088-8c4ef253aba7",
   "metadata": {},
   "outputs": [],
   "source": [
    "for i, x_seq in enumerate(x_sequences):\n",
    "    for j, token in enumerate(x_seq):\n",
    "        if ',' in token:\n",
    "            x_sequences[i][j] = token.replace(',', '</l>,')\n",
    "        elif '.' in token:\n",
    "            x_sequences[i][j] = token.replace('.', '</l>.</e>')\n",
    "    # Concatenate into a single string\n",
    "    x_sequences[i] = ' '.join(x_sequences[i])"
   ]
  },
  {
   "cell_type": "markdown",
   "id": "392f072e-0b74-4c43-b235-edfd73516c11",
   "metadata": {},
   "source": [
    "### Defining fields (using torchtext classes)"
   ]
  },
  {
   "cell_type": "code",
   "execution_count": 9,
   "id": "609a24f3-7bfc-4f4f-885a-d0fec1590450",
   "metadata": {},
   "outputs": [
    {
     "ename": "NameError",
     "evalue": "name 'Field' is not defined",
     "output_type": "error",
     "traceback": [
      "\u001b[1;31m---------------------------------------------------------------------------\u001b[0m",
      "\u001b[1;31mNameError\u001b[0m                                 Traceback (most recent call last)",
      "Cell \u001b[1;32mIn[9], line 1\u001b[0m\n\u001b[1;32m----> 1\u001b[0m TEXT \u001b[38;5;241m=\u001b[39m Field(tokenize\u001b[38;5;241m=\u001b[39m\u001b[38;5;28;01mlambda\u001b[39;00m x: x\u001b[38;5;241m.\u001b[39msplit(), lower\u001b[38;5;241m=\u001b[39m\u001b[38;5;28;01mTrue\u001b[39;00m)\n\u001b[0;32m      2\u001b[0m LABEL \u001b[38;5;241m=\u001b[39m Field(sequential\u001b[38;5;241m=\u001b[39m\u001b[38;5;28;01mFalse\u001b[39;00m)\n",
      "\u001b[1;31mNameError\u001b[0m: name 'Field' is not defined"
     ]
    }
   ],
   "source": [
    "TEXT = Field(tokenize=lambda x: x.split(), lower=True)\n",
    "LABEL = Field(sequential=False)"
   ]
  },
  {
   "cell_type": "code",
   "execution_count": null,
   "id": "35bb197f-b7bc-453c-a234-490af9abfa71",
   "metadata": {},
   "outputs": [],
   "source": []
  }
 ],
 "metadata": {
  "kernelspec": {
   "display_name": "Python 3 (ipykernel)",
   "language": "python",
   "name": "python3"
  },
  "language_info": {
   "codemirror_mode": {
    "name": "ipython",
    "version": 3
   },
   "file_extension": ".py",
   "mimetype": "text/x-python",
   "name": "python",
   "nbconvert_exporter": "python",
   "pygments_lexer": "ipython3",
   "version": "3.11.5"
  }
 },
 "nbformat": 4,
 "nbformat_minor": 5
}
