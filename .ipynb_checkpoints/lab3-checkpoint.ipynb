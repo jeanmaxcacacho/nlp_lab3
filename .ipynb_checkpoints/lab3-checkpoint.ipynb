{
 "cells": [
  {
   "cell_type": "markdown",
   "id": "56d73ec8-6641-4ac0-8c0b-3460da6b0dc6",
   "metadata": {},
   "source": [
    "# Importing Packages"
   ]
  },
  {
   "cell_type": "code",
   "execution_count": 1,
   "id": "b81ed330-330c-4915-8ee8-67f3518cdbd5",
   "metadata": {},
   "outputs": [],
   "source": [
    "import torch\n",
    "import torchtext\n",
    "\n",
    "from collections import defaultdict"
   ]
  },
  {
   "cell_type": "markdown",
   "id": "ee26fdb9-8906-4b5a-ab52-7b8071079e50",
   "metadata": {},
   "source": [
    "# Task 1 Create Dataset for Generative Learning"
   ]
  },
  {
   "cell_type": "markdown",
   "id": "b6844ab8-1217-43c6-b8a1-f995a0c1cd17",
   "metadata": {},
   "source": [
    "### Storing the haikus into strings."
   ]
  },
  {
   "cell_type": "code",
   "execution_count": 2,
   "id": "cb3d23a4-40ab-4ec8-926d-bddd163e1c65",
   "metadata": {},
   "outputs": [
    {
     "name": "stdout",
     "output_type": "stream",
     "text": [
      "Tranquil waters flow, Whispering secrets of time, Embraced by the night.\n",
      "Moonlight dances soft, Through branches of ancient oak, Embraced by the night.\n",
      "Serene silence reigns, Stars shimmer in the night sky, Embraced by the night.\n",
      "Shadows dance gently, Across fields of golden wheat, Embraced by the night.\n",
      "Fireflies flicker bright, Illuminating the dark, Embraced by the night.\n"
     ]
    }
   ],
   "source": [
    "haiku1 = \"Tranquil waters flow, Whispering secrets of time, Embraced by the night.\"\n",
    "haiku2 = \"Moonlight dances soft, Through branches of ancient oak, Embraced by the night.\"\n",
    "haiku3 = \"Serene silence reigns, Stars shimmer in the night sky, Embraced by the night.\"\n",
    "haiku4 = \"Shadows dance gently, Across fields of golden wheat, Embraced by the night.\"\n",
    "haiku5 = \"Fireflies flicker bright, Illuminating the dark, Embraced by the night.\"\n",
    "\n",
    "haikus = [haiku1, haiku2, haiku3, haiku4, haiku5]\n",
    "\n",
    "for haiku in haikus:\n",
    "    print(haiku)"
   ]
  },
  {
   "cell_type": "markdown",
   "id": "704d105c-d25b-4041-a5a8-11ed09ad23b4",
   "metadata": {},
   "source": [
    "### Tokenize haikus into words"
   ]
  },
  {
   "cell_type": "code",
   "execution_count": 3,
   "id": "fe4aa8f0-bde1-4371-af10-450767ec7157",
   "metadata": {},
   "outputs": [
    {
     "data": {
      "text/plain": [
       "[['tranquil',\n",
       "  'waters',\n",
       "  'flow',\n",
       "  ',',\n",
       "  'whispering',\n",
       "  'secrets',\n",
       "  'of',\n",
       "  'time',\n",
       "  ',',\n",
       "  'embraced',\n",
       "  'by',\n",
       "  'the',\n",
       "  'night',\n",
       "  '.'],\n",
       " ['moonlight',\n",
       "  'dances',\n",
       "  'soft',\n",
       "  ',',\n",
       "  'through',\n",
       "  'branches',\n",
       "  'of',\n",
       "  'ancient',\n",
       "  'oak',\n",
       "  ',',\n",
       "  'embraced',\n",
       "  'by',\n",
       "  'the',\n",
       "  'night',\n",
       "  '.'],\n",
       " ['serene',\n",
       "  'silence',\n",
       "  'reigns',\n",
       "  ',',\n",
       "  'stars',\n",
       "  'shimmer',\n",
       "  'in',\n",
       "  'the',\n",
       "  'night',\n",
       "  'sky',\n",
       "  ',',\n",
       "  'embraced',\n",
       "  'by',\n",
       "  'the',\n",
       "  'night',\n",
       "  '.'],\n",
       " ['shadows',\n",
       "  'dance',\n",
       "  'gently',\n",
       "  ',',\n",
       "  'across',\n",
       "  'fields',\n",
       "  'of',\n",
       "  'golden',\n",
       "  'wheat',\n",
       "  ',',\n",
       "  'embraced',\n",
       "  'by',\n",
       "  'the',\n",
       "  'night',\n",
       "  '.'],\n",
       " ['fireflies',\n",
       "  'flicker',\n",
       "  'bright',\n",
       "  ',',\n",
       "  'illuminating',\n",
       "  'the',\n",
       "  'dark',\n",
       "  ',',\n",
       "  'embraced',\n",
       "  'by',\n",
       "  'the',\n",
       "  'night',\n",
       "  '.']]"
      ]
     },
     "execution_count": 3,
     "metadata": {},
     "output_type": "execute_result"
    }
   ],
   "source": [
    "tokenizer = torchtext.data.utils.get_tokenizer(\"basic_english\")\n",
    "\n",
    "tokenized_haikus = [tokenizer(haiku) for haiku in haikus]\n",
    "tokenized_haikus"
   ]
  },
  {
   "cell_type": "markdown",
   "id": "e28c67ba-942e-4a5c-9df7-0f5171e3f5b4",
   "metadata": {},
   "source": [
    "### Tagging end of line with `</l>` and end of haiku with `</e>`"
   ]
  },
  {
   "cell_type": "code",
   "execution_count": 4,
   "id": "e87d301a-ed58-4028-a088-8c4ef253aba7",
   "metadata": {},
   "outputs": [
    {
     "data": {
      "text/plain": [
       "[['tranquil',\n",
       "  'waters',\n",
       "  'flow',\n",
       "  ',</l>',\n",
       "  'whispering',\n",
       "  'secrets',\n",
       "  'of',\n",
       "  'time',\n",
       "  ',</l>',\n",
       "  'embraced',\n",
       "  'by',\n",
       "  'the',\n",
       "  'night',\n",
       "  '.</e>'],\n",
       " ['moonlight',\n",
       "  'dances',\n",
       "  'soft',\n",
       "  ',</l>',\n",
       "  'through',\n",
       "  'branches',\n",
       "  'of',\n",
       "  'ancient',\n",
       "  'oak',\n",
       "  ',</l>',\n",
       "  'embraced',\n",
       "  'by',\n",
       "  'the',\n",
       "  'night',\n",
       "  '.</e>'],\n",
       " ['serene',\n",
       "  'silence',\n",
       "  'reigns',\n",
       "  ',</l>',\n",
       "  'stars',\n",
       "  'shimmer',\n",
       "  'in',\n",
       "  'the',\n",
       "  'night',\n",
       "  'sky',\n",
       "  ',</l>',\n",
       "  'embraced',\n",
       "  'by',\n",
       "  'the',\n",
       "  'night',\n",
       "  '.</e>'],\n",
       " ['shadows',\n",
       "  'dance',\n",
       "  'gently',\n",
       "  ',</l>',\n",
       "  'across',\n",
       "  'fields',\n",
       "  'of',\n",
       "  'golden',\n",
       "  'wheat',\n",
       "  ',</l>',\n",
       "  'embraced',\n",
       "  'by',\n",
       "  'the',\n",
       "  'night',\n",
       "  '.</e>'],\n",
       " ['fireflies',\n",
       "  'flicker',\n",
       "  'bright',\n",
       "  ',</l>',\n",
       "  'illuminating',\n",
       "  'the',\n",
       "  'dark',\n",
       "  ',</l>',\n",
       "  'embraced',\n",
       "  'by',\n",
       "  'the',\n",
       "  'night',\n",
       "  '.</e>']]"
      ]
     },
     "execution_count": 4,
     "metadata": {},
     "output_type": "execute_result"
    }
   ],
   "source": [
    "for haiku_tokens in tokenized_haikus:\n",
    "    for i, token in enumerate(haiku_tokens):\n",
    "        if token.endswith(','):\n",
    "            haiku_tokens[i] += \"</l>\"\n",
    "        elif token.endswith('.'):\n",
    "            haiku_tokens[i] += \"</e>\"\n",
    "\n",
    "tokenized_haikus"
   ]
  },
  {
   "cell_type": "markdown",
   "id": "b6949b6a-55f3-4c54-be7d-7c71123ebfdc",
   "metadata": {},
   "source": [
    "### Generating sequences"
   ]
  },
  {
   "cell_type": "code",
   "execution_count": 5,
   "id": "b58476d4-65bd-42b4-880d-7cda3e3377fa",
   "metadata": {},
   "outputs": [
    {
     "data": {
      "text/plain": [
       "[(['tranquil', 'waters', 'flow'], [',</l>']),\n",
       " (['waters', 'flow', ',</l>'], ['whispering']),\n",
       " (['flow', ',</l>', 'whispering'], ['secrets']),\n",
       " ([',</l>', 'whispering', 'secrets'], ['of']),\n",
       " (['whispering', 'secrets', 'of'], ['time']),\n",
       " (['secrets', 'of', 'time'], [',</l>']),\n",
       " (['of', 'time', ',</l>'], ['embraced']),\n",
       " (['time', ',</l>', 'embraced'], ['by']),\n",
       " ([',</l>', 'embraced', 'by'], ['the']),\n",
       " (['embraced', 'by', 'the'], ['night']),\n",
       " (['by', 'the', 'night'], ['.</e>']),\n",
       " (['moonlight', 'dances', 'soft'], [',</l>']),\n",
       " (['dances', 'soft', ',</l>'], ['through']),\n",
       " (['soft', ',</l>', 'through'], ['branches']),\n",
       " ([',</l>', 'through', 'branches'], ['of']),\n",
       " (['through', 'branches', 'of'], ['ancient']),\n",
       " (['branches', 'of', 'ancient'], ['oak']),\n",
       " (['of', 'ancient', 'oak'], [',</l>']),\n",
       " (['ancient', 'oak', ',</l>'], ['embraced']),\n",
       " (['oak', ',</l>', 'embraced'], ['by']),\n",
       " ([',</l>', 'embraced', 'by'], ['the']),\n",
       " (['embraced', 'by', 'the'], ['night']),\n",
       " (['by', 'the', 'night'], ['.</e>']),\n",
       " (['serene', 'silence', 'reigns'], [',</l>']),\n",
       " (['silence', 'reigns', ',</l>'], ['stars']),\n",
       " (['reigns', ',</l>', 'stars'], ['shimmer']),\n",
       " ([',</l>', 'stars', 'shimmer'], ['in']),\n",
       " (['stars', 'shimmer', 'in'], ['the']),\n",
       " (['shimmer', 'in', 'the'], ['night']),\n",
       " (['in', 'the', 'night'], ['sky']),\n",
       " (['the', 'night', 'sky'], [',</l>']),\n",
       " (['night', 'sky', ',</l>'], ['embraced']),\n",
       " (['sky', ',</l>', 'embraced'], ['by']),\n",
       " ([',</l>', 'embraced', 'by'], ['the']),\n",
       " (['embraced', 'by', 'the'], ['night']),\n",
       " (['by', 'the', 'night'], ['.</e>']),\n",
       " (['shadows', 'dance', 'gently'], [',</l>']),\n",
       " (['dance', 'gently', ',</l>'], ['across']),\n",
       " (['gently', ',</l>', 'across'], ['fields']),\n",
       " ([',</l>', 'across', 'fields'], ['of']),\n",
       " (['across', 'fields', 'of'], ['golden']),\n",
       " (['fields', 'of', 'golden'], ['wheat']),\n",
       " (['of', 'golden', 'wheat'], [',</l>']),\n",
       " (['golden', 'wheat', ',</l>'], ['embraced']),\n",
       " (['wheat', ',</l>', 'embraced'], ['by']),\n",
       " ([',</l>', 'embraced', 'by'], ['the']),\n",
       " (['embraced', 'by', 'the'], ['night']),\n",
       " (['by', 'the', 'night'], ['.</e>']),\n",
       " (['fireflies', 'flicker', 'bright'], [',</l>']),\n",
       " (['flicker', 'bright', ',</l>'], ['illuminating']),\n",
       " (['bright', ',</l>', 'illuminating'], ['the']),\n",
       " ([',</l>', 'illuminating', 'the'], ['dark']),\n",
       " (['illuminating', 'the', 'dark'], [',</l>']),\n",
       " (['the', 'dark', ',</l>'], ['embraced']),\n",
       " (['dark', ',</l>', 'embraced'], ['by']),\n",
       " ([',</l>', 'embraced', 'by'], ['the']),\n",
       " (['embraced', 'by', 'the'], ['night']),\n",
       " (['by', 'the', 'night'], ['.</e>'])]"
      ]
     },
     "execution_count": 5,
     "metadata": {},
     "output_type": "execute_result"
    }
   ],
   "source": [
    "sequences = []\n",
    "x = 3  # x-length sequences\n",
    "y = 1  # y-length sequences\n",
    "\n",
    "for haiku_tokens in tokenized_haikus:\n",
    "    # Generate sequences for each haiku\n",
    "    for i in range(len(haiku_tokens) - x - y + 1):\n",
    "        # Extract x and y sequences\n",
    "        x_sequence = haiku_tokens[i:i + x]\n",
    "        y_sequence = haiku_tokens[i + x:i + x + y]\n",
    "        sequences.append((x_sequence, y_sequence))\n",
    "\n",
    "# let's see what it looks like\n",
    "sequences"
   ]
  },
  {
   "cell_type": "markdown",
   "id": "5b1be52f-d0ba-49d4-b57b-d221de7a299e",
   "metadata": {},
   "source": [
    "# Task 2 Create a Model that Implements MultiheadTransformer"
   ]
  },
  {
   "cell_type": "code",
   "execution_count": 7,
   "id": "7e538c6d-8a16-439d-931f-01f5c23293be",
   "metadata": {},
   "outputs": [],
   "source": [
    "import torch.nn"
   ]
  }
 ],
 "metadata": {
  "kernelspec": {
   "display_name": "Python 3 (ipykernel)",
   "language": "python",
   "name": "python3"
  },
  "language_info": {
   "codemirror_mode": {
    "name": "ipython",
    "version": 3
   },
   "file_extension": ".py",
   "mimetype": "text/x-python",
   "name": "python",
   "nbconvert_exporter": "python",
   "pygments_lexer": "ipython3",
   "version": "3.11.5"
  }
 },
 "nbformat": 4,
 "nbformat_minor": 5
}
